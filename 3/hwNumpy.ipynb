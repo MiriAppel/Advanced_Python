{
 "cells": [
  {
   "cell_type": "code",
   "execution_count": 1,
   "id": "ac22fe64-454a-4472-b812-bd4a567ecf07",
   "metadata": {},
   "outputs": [
    {
     "name": "stdout",
     "output_type": "stream",
     "text": [
      "Requirement already satisfied: numpy in c:\\users\\user1\\appdata\\local\\programs\\python\\python313\\lib\\site-packages (2.2.5)\n",
      "Note: you may need to restart the kernel to use updated packages.\n"
     ]
    },
    {
     "name": "stderr",
     "output_type": "stream",
     "text": [
      "\n",
      "[notice] A new release of pip is available: 24.2 -> 25.1.1\n",
      "[notice] To update, run: C:\\Users\\user1\\AppData\\Local\\Programs\\Python\\Python313\\python.exe -m pip install --upgrade pip\n"
     ]
    }
   ],
   "source": [
    "pip install numpy"
   ]
  },
  {
   "cell_type": "code",
   "execution_count": 2,
   "id": "258be12c-eb71-4e36-8b7f-ae0ed26efd1e",
   "metadata": {},
   "outputs": [],
   "source": [
    "import numpy as np"
   ]
  },
  {
   "cell_type": "markdown",
   "id": "a53f92f4-87c5-4633-8261-e2ccd27bb0bd",
   "metadata": {},
   "source": [
    "שאלה 1"
   ]
  },
  {
   "cell_type": "code",
   "execution_count": 3,
   "id": "7d0a4349-44a8-4c5d-a80f-e49bccd6d06c",
   "metadata": {},
   "outputs": [
    {
     "data": {
      "text/plain": [
       "array([26, 45, 15, 15, 15, 23,  5,  7,  8,  1], dtype=int32)"
      ]
     },
     "execution_count": 3,
     "metadata": {},
     "output_type": "execute_result"
    }
   ],
   "source": [
    "arr = np.random.randint(1, 50, size = (10))\n",
    "arr"
   ]
  },
  {
   "cell_type": "code",
   "execution_count": 4,
   "id": "e49de64d-952f-4557-979b-630ca215d628",
   "metadata": {},
   "outputs": [
    {
     "data": {
      "text/plain": [
       "np.float64(16.0)"
      ]
     },
     "execution_count": 4,
     "metadata": {},
     "output_type": "execute_result"
    }
   ],
   "source": [
    "np.mean(arr)"
   ]
  },
  {
   "cell_type": "markdown",
   "id": "b0ee065f-1540-42a9-bcf5-46b90c1f3838",
   "metadata": {},
   "source": [
    "שאלה 2"
   ]
  },
  {
   "cell_type": "code",
   "execution_count": 8,
   "id": "5ee06c2a-043b-4fc9-84fd-b675ff619977",
   "metadata": {},
   "outputs": [],
   "source": [
    "arr1 = np.array([[1, 2, 3], [4, 5, 6], [5, 6, 7]])\n",
    "arr2 = np.array([[8, 9, 10], [11, 12, 13], [14, 15, 16]])"
   ]
  },
  {
   "cell_type": "code",
   "execution_count": 9,
   "id": "1f91245a-6252-4ea6-bb3a-80c8fb132476",
   "metadata": {},
   "outputs": [],
   "source": [
    "result = arr1 + arr2"
   ]
  },
  {
   "cell_type": "code",
   "execution_count": 10,
   "id": "e1305cee-594d-471c-8e66-16c25fb47300",
   "metadata": {},
   "outputs": [
    {
     "data": {
      "text/plain": [
       "np.float64(16.333333333333332)"
      ]
     },
     "execution_count": 10,
     "metadata": {},
     "output_type": "execute_result"
    }
   ],
   "source": [
    "np.mean(result)"
   ]
  },
  {
   "cell_type": "markdown",
   "id": "398c9ca0-749e-4126-aee5-f1eba165e0c0",
   "metadata": {},
   "source": [
    "שאלה 3"
   ]
  },
  {
   "cell_type": "code",
   "execution_count": 12,
   "id": "0c627d5a-de69-4c05-b788-d401b9eedf88",
   "metadata": {},
   "outputs": [
    {
     "data": {
      "text/plain": [
       "array([66, 92, 14,  3, 95, 70, 71, 23, 51, 80, 18, 36, 41, 37,  2,  8,  1,\n",
       "       63, 90, 68], dtype=int32)"
      ]
     },
     "execution_count": 12,
     "metadata": {},
     "output_type": "execute_result"
    }
   ],
   "source": [
    "arr = np.random.randint(1, 100, size = (20))\n",
    "arr"
   ]
  },
  {
   "cell_type": "code",
   "execution_count": 15,
   "id": "855417e3-d12f-40a7-9016-63f499a626cc",
   "metadata": {},
   "outputs": [
    {
     "data": {
      "text/plain": [
       "array([66, 92, 95, 70, 71, 51, 80, 63, 90, 68], dtype=int32)"
      ]
     },
     "execution_count": 15,
     "metadata": {},
     "output_type": "execute_result"
    }
   ],
   "source": [
    "result = arr[arr > 50]\n",
    "result"
   ]
  }
 ],
 "metadata": {
  "kernelspec": {
   "display_name": "Python 3 (ipykernel)",
   "language": "python",
   "name": "python3"
  },
  "language_info": {
   "codemirror_mode": {
    "name": "ipython",
    "version": 3
   },
   "file_extension": ".py",
   "mimetype": "text/x-python",
   "name": "python",
   "nbconvert_exporter": "python",
   "pygments_lexer": "ipython3",
   "version": "3.13.0"
  }
 },
 "nbformat": 4,
 "nbformat_minor": 5
}
